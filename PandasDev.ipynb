{
 "cells": [
  {
   "cell_type": "code",
   "execution_count": 1,
   "metadata": {},
   "outputs": [],
   "source": [
    "import pandas as pd"
   ]
  },
  {
   "cell_type": "code",
   "execution_count": 6,
   "metadata": {},
   "outputs": [
    {
     "name": "stdout",
     "output_type": "stream",
     "text": [
      "       date  new_tested  acc_tested  new_confirmed  acc_confirmed  \\\n",
      "0  2-Mar-20         NaN         339              2              2   \n",
      "1  3-Mar-20         2.0         341              0              2   \n",
      "2  4-Mar-20        31.0         372              0              2   \n",
      "3  5-Mar-20        16.0         388              0              2   \n",
      "4  6-Mar-20        62.0         450              2              4   \n",
      "\n",
      "   acc_negative  being_checked  isolated  new_released  acc_released  \\\n",
      "0           335              2         2             0             0   \n",
      "1           337              2         2             0             0   \n",
      "2           356             14         2             0             0   \n",
      "3           371             15         2             0             0   \n",
      "4           422             24         4             0             0   \n",
      "\n",
      "   new_deceased  acc_deceased positive_rate negative_rate decease_rate  \\\n",
      "0             0             0         0.59%        98.82%        0.00%   \n",
      "1             0             0         0.59%        98.83%        0.00%   \n",
      "2             0             0         0.54%        95.70%        0.00%   \n",
      "3             0             0         0.52%        95.62%        0.00%   \n",
      "4             0             0         0.89%        93.78%        0.00%   \n",
      "\n",
      "  release_rate dailypositive_rate  \n",
      "0        0.00%              0.00%  \n",
      "1        0.00%              0.00%  \n",
      "2        0.00%              0.00%  \n",
      "3        0.00%              0.00%  \n",
      "4        0.00%              3.23%  \n",
      "    acc_tested\n",
      "0          339\n",
      "1          341\n",
      "2          372\n",
      "3          388\n",
      "4          450\n",
      "5          454\n",
      "6          483\n",
      "7          543\n",
      "8          694\n",
      "9          793\n",
      "10         862\n",
      "11        1005\n",
      "12        1205\n",
      "13        1293\n",
      "14        1330\n",
      "15        1372\n",
      "16        1592\n",
      "17        1651\n",
      "18        2028\n",
      "19        2365\n",
      "20        2438\n",
      "21        2756\n",
      "22        3332\n",
      "23        3822\n",
      "24        4336\n",
      "25        5775\n",
      "26        6266\n",
      "27        6534\n",
      "28        6663\n",
      "29        6777\n"
     ]
    }
   ],
   "source": [
    "import pandas as pd\n",
    "csv_path = (r'C:\\Users\\irhan\\OneDrive - grow distributed users\\BelajarPython\\Dataset\\COVID_INDONESIA\\cases.csv')\n",
    "df = pd.read_csv(csv_path)\n",
    "print(df.head())\n",
    "\n",
    "x = df[['acc_tested']] #digunakkan untuk mengambil satu kolom dari seluruh tabel\n",
    "print(x)"
   ]
  },
  {
   "cell_type": "code",
   "execution_count": 3,
   "metadata": {},
   "outputs": [
    {
     "name": "stdout",
     "output_type": "stream",
     "text": [
      "  DATA TABEL DAN DIAGRAM KEPEGAWAIAN BERDASARKAN JENIS KELAMIN, PENDIDIKAN,   \\\n",
      "0                                 AGAMA DAN GOLONGAN                           \n",
      "1    DI DINAS PERHUBUNGAN KABUPATEN TEGAL TAHUN 2020                           \n",
      "2                                                NaN                           \n",
      "3                                                NaN                           \n",
      "4                                   Jumlah Laki-laki                           \n",
      "\n",
      "   Unnamed: 1  \n",
      "0         NaN  \n",
      "1         NaN  \n",
      "2         NaN  \n",
      "3         NaN  \n",
      "4        47.0  \n"
     ]
    }
   ],
   "source": [
    "xlsx_path = (r'C:\\Users\\irhan\\OneDrive - grow distributed users\\BelajarPython\\Dataset\\1.1-data-pegawai-dishub-dan-diagram-maret-2020.xls')\n",
    "df = pd.read_excel(xlsx_path)\n",
    "print(df.head())"
   ]
  },
  {
   "cell_type": "code",
   "execution_count": 12,
   "metadata": {},
   "outputs": [
    {
     "name": "stdout",
     "output_type": "stream",
     "text": [
      "            Artist                      Album  Released    Length\n",
      "0  Michael Jackson                   Thriller      1982  00:42:19\n",
      "1            AC/DC              Back in Black      1980  00:42:11\n",
      "2       Pink Floyd  The Dark Side of the Moon      1973  00:42:49\n",
      "3  Whitney Houston              The Bodyguard      1992  00:57:44\n",
      "4        Meat Loaf            Bat Out of Hell      1977  00:46:33\n",
      "     Length\n",
      "0  00:42:19\n",
      "1  00:42:11\n",
      "2  00:42:49\n",
      "3  00:57:44\n",
      "4  00:46:33\n",
      "5  00:43:08\n",
      "['Michael Jackson' 'AC/DC' 'Pink Floyd' 'Whitney Houston' 'Meat Loaf'\n",
      " 'Eagles']\n",
      "                             Album  Released\n",
      "0                         Thriller      1982\n",
      "1                    Back in Black      1980\n",
      "2        The Dark Side of the Moon      1973\n",
      "3                    The Bodyguard      1992\n",
      "4                  Bat Out of Hell      1977\n",
      "5  Their Greatest Hits (1971-1975)      1976\n",
      "            Artist          Album  Released\n",
      "0  Michael Jackson       Thriller      1982\n",
      "1            AC/DC  Back in Black      1980\n",
      "            Artist          Album  Released    Length\n",
      "0  Michael Jackson       Thriller      1982  00:42:19\n",
      "1            AC/DC  Back in Black      1980  00:42:11\n",
      "3  Whitney Houston  The Bodyguard      1992  00:57:44\n"
     ]
    }
   ],
   "source": [
    "import pandas as pd\n",
    "songs = {'Artist' :['Michael Jackson','AC/DC', 'Pink Floyd', 'Whitney Houston', 'Meat Loaf', 'Eagles'], 'Album': ['Thriller', 'Back in Black', 'The Dark Side of the Moon','The Bodyguard','Bat Out of Hell', 'Their Greatest Hits (1971-1975)'],\n",
    "         'Released':[1982, 1980, 1973, 1992, 1977,1976], 'Length': ['00:42:19', '00:42:11', '00:42:49', '00:57:44', '00:46:33','00:43:08']}\n",
    "\n",
    "songs_frame = pd.DataFrame(songs)\n",
    "print(songs_frame.head())\n",
    "x = songs_frame[['Length']] #digunakkan untuk mengambil data dari satu kolom\n",
    "S = songs_frame['Artist'].unique() #digunakkan untuk mengambil data dari satu kolom\n",
    "print(x)\n",
    "print(S)\n",
    "y = songs_frame[['Album','Released']] #digunakkan untuk mengambil data dari multi kolom atau banyak kolom\n",
    "print(y)\n",
    "songs_frame.iloc[0,0] #digunakkan untuk memanggil salah satu atribut dari list\n",
    "songs_frame.iloc[1,0]\n",
    "songs_frame.iloc[5,0]\n",
    "songs_frame.iloc[0, songs_frame.columns.get_loc('Artist')] #mengambil satu data dari atribut menggunakkan index dan key\n",
    "songs_frame.iloc[2, songs_frame.columns.get_loc('Released')]\n",
    "z = songs_frame.iloc[0:2, 0:3] #menampilkan data berdasarkan row index dan index kolom\n",
    "print(z)\n",
    "songs_frame['Released']>=1980 #output berupa boolean\n",
    "songs_list = songs_frame[songs_frame['Released']>=1980] #menampilkan list berupa atribut yg sesuai dengan kriteria\n",
    "print(songs_list)\n",
    "songs_list.to_csv('80an.csv')"
   ]
  },
  {
   "cell_type": "code",
   "execution_count": 10,
   "metadata": {},
   "outputs": [
    {
     "data": {
      "text/html": [
       "<div>\n",
       "<style scoped>\n",
       "    .dataframe tbody tr th:only-of-type {\n",
       "        vertical-align: middle;\n",
       "    }\n",
       "\n",
       "    .dataframe tbody tr th {\n",
       "        vertical-align: top;\n",
       "    }\n",
       "\n",
       "    .dataframe thead th {\n",
       "        text-align: right;\n",
       "    }\n",
       "</style>\n",
       "<table border=\"1\" class=\"dataframe\">\n",
       "  <thead>\n",
       "    <tr style=\"text-align: right;\">\n",
       "      <th></th>\n",
       "      <th>a</th>\n",
       "      <th>b</th>\n",
       "    </tr>\n",
       "  </thead>\n",
       "  <tbody>\n",
       "    <tr>\n",
       "      <th>0</th>\n",
       "      <td>11</td>\n",
       "      <td>21</td>\n",
       "    </tr>\n",
       "    <tr>\n",
       "      <th>1</th>\n",
       "      <td>21</td>\n",
       "      <td>22</td>\n",
       "    </tr>\n",
       "    <tr>\n",
       "      <th>2</th>\n",
       "      <td>31</td>\n",
       "      <td>23</td>\n",
       "    </tr>\n",
       "  </tbody>\n",
       "</table>\n",
       "</div>"
      ],
      "text/plain": [
       "    a   b\n",
       "0  11  21\n",
       "1  21  22\n",
       "2  31  23"
      ]
     },
     "execution_count": 10,
     "metadata": {},
     "output_type": "execute_result"
    }
   ],
   "source": [
    "\n",
    "\n",
    "import pandas as banana\n",
    "\n",
    "df=banana.DataFrame({'a':[11,21,31],'b':[21,22,23]})\n",
    "\n",
    "df.head()\n"
   ]
  },
  {
   "cell_type": "code",
   "execution_count": 13,
   "metadata": {},
   "outputs": [
    {
     "data": {
      "text/plain": [
       "0     True\n",
       "1    False\n",
       "2     True\n",
       "Name: a, dtype: bool"
      ]
     },
     "execution_count": 13,
     "metadata": {},
     "output_type": "execute_result"
    }
   ],
   "source": [
    "df=pd.DataFrame({'a':[1,2,1],'b':[1,1,1]})\n",
    "df['a']==1"
   ]
  },
  {
   "cell_type": "code",
   "execution_count": null,
   "metadata": {},
   "outputs": [],
   "source": []
  },
  {
   "cell_type": "code",
   "execution_count": null,
   "metadata": {},
   "outputs": [],
   "source": []
  },
  {
   "cell_type": "code",
   "execution_count": null,
   "metadata": {},
   "outputs": [],
   "source": []
  },
  {
   "cell_type": "code",
   "execution_count": null,
   "metadata": {},
   "outputs": [],
   "source": []
  },
  {
   "cell_type": "code",
   "execution_count": null,
   "metadata": {},
   "outputs": [],
   "source": []
  }
 ],
 "metadata": {
  "kernelspec": {
   "display_name": "Python 3",
   "language": "python",
   "name": "python3"
  },
  "language_info": {
   "codemirror_mode": {
    "name": "ipython",
    "version": 3
   },
   "file_extension": ".py",
   "mimetype": "text/x-python",
   "name": "python",
   "nbconvert_exporter": "python",
   "pygments_lexer": "ipython3",
   "version": "3.8.5"
  }
 },
 "nbformat": 4,
 "nbformat_minor": 4
}