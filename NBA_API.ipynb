{
 "metadata": {
  "language_info": {
   "codemirror_mode": {
    "name": "ipython",
    "version": 3
   },
   "file_extension": ".py",
   "mimetype": "text/x-python",
   "name": "python",
   "nbconvert_exporter": "python",
   "pygments_lexer": "ipython3",
   "version": "3.8.5-final"
  },
  "orig_nbformat": 2,
  "kernelspec": {
   "name": "python3",
   "display_name": "Python 3"
  }
 },
 "nbformat": 4,
 "nbformat_minor": 2,
 "cells": [
  {
   "cell_type": "code",
   "execution_count": 16,
   "metadata": {},
   "outputs": [
    {
     "output_type": "stream",
     "name": "stdout",
     "text": [
      "1610612744\n"
     ]
    },
    {
     "output_type": "execute_result",
     "data": {
      "text/plain": [
       "  SEASON_ID     TEAM_ID TEAM_ABBREVIATION              TEAM_NAME     GAME_ID  \\\n",
       "0     22019  1610612744               GSW  Golden State Warriors  0021900967   \n",
       "1     22019  1610612744               GSW  Golden State Warriors  0021900944   \n",
       "2     22019  1610612744               GSW  Golden State Warriors  0021900929   \n",
       "3     22019  1610612744               GSW  Golden State Warriors  0021900913   \n",
       "4     22019  1610612744               GSW  Golden State Warriors  0021900901   \n",
       "\n",
       "    GAME_DATE      MATCHUP WL  MIN  PTS  ...  FT_PCT  OREB  DREB   REB  AST  \\\n",
       "0  2020-03-10  GSW vs. LAC  L  239  107  ...   0.815   4.0  31.0  35.0   25   \n",
       "1  2020-03-07  GSW vs. PHI  W  240  118  ...   0.750   7.0  28.0  35.0   30   \n",
       "2  2020-03-05  GSW vs. TOR  L  240  113  ...   0.760  14.0  38.0  52.0   34   \n",
       "3  2020-03-03    GSW @ DEN  W  239  116  ...   0.636   5.0  30.0  35.0   31   \n",
       "4  2020-03-01  GSW vs. WAS  L  239  110  ...   0.708  18.0  34.0  52.0   25   \n",
       "\n",
       "   STL  BLK  TOV  PF  PLUS_MINUS  \n",
       "0    3    0    9  17       -24.0  \n",
       "1    4    2    7  19         4.0  \n",
       "2    4    5   15  23        -8.0  \n",
       "3    8    3   11  23        16.0  \n",
       "4    7    7   21  24       -14.0  \n",
       "\n",
       "[5 rows x 28 columns]"
      ],
      "text/html": "<div>\n<style scoped>\n    .dataframe tbody tr th:only-of-type {\n        vertical-align: middle;\n    }\n\n    .dataframe tbody tr th {\n        vertical-align: top;\n    }\n\n    .dataframe thead th {\n        text-align: right;\n    }\n</style>\n<table border=\"1\" class=\"dataframe\">\n  <thead>\n    <tr style=\"text-align: right;\">\n      <th></th>\n      <th>SEASON_ID</th>\n      <th>TEAM_ID</th>\n      <th>TEAM_ABBREVIATION</th>\n      <th>TEAM_NAME</th>\n      <th>GAME_ID</th>\n      <th>GAME_DATE</th>\n      <th>MATCHUP</th>\n      <th>WL</th>\n      <th>MIN</th>\n      <th>PTS</th>\n      <th>...</th>\n      <th>FT_PCT</th>\n      <th>OREB</th>\n      <th>DREB</th>\n      <th>REB</th>\n      <th>AST</th>\n      <th>STL</th>\n      <th>BLK</th>\n      <th>TOV</th>\n      <th>PF</th>\n      <th>PLUS_MINUS</th>\n    </tr>\n  </thead>\n  <tbody>\n    <tr>\n      <th>0</th>\n      <td>22019</td>\n      <td>1610612744</td>\n      <td>GSW</td>\n      <td>Golden State Warriors</td>\n      <td>0021900967</td>\n      <td>2020-03-10</td>\n      <td>GSW vs. LAC</td>\n      <td>L</td>\n      <td>239</td>\n      <td>107</td>\n      <td>...</td>\n      <td>0.815</td>\n      <td>4.0</td>\n      <td>31.0</td>\n      <td>35.0</td>\n      <td>25</td>\n      <td>3</td>\n      <td>0</td>\n      <td>9</td>\n      <td>17</td>\n      <td>-24.0</td>\n    </tr>\n    <tr>\n      <th>1</th>\n      <td>22019</td>\n      <td>1610612744</td>\n      <td>GSW</td>\n      <td>Golden State Warriors</td>\n      <td>0021900944</td>\n      <td>2020-03-07</td>\n      <td>GSW vs. PHI</td>\n      <td>W</td>\n      <td>240</td>\n      <td>118</td>\n      <td>...</td>\n      <td>0.750</td>\n      <td>7.0</td>\n      <td>28.0</td>\n      <td>35.0</td>\n      <td>30</td>\n      <td>4</td>\n      <td>2</td>\n      <td>7</td>\n      <td>19</td>\n      <td>4.0</td>\n    </tr>\n    <tr>\n      <th>2</th>\n      <td>22019</td>\n      <td>1610612744</td>\n      <td>GSW</td>\n      <td>Golden State Warriors</td>\n      <td>0021900929</td>\n      <td>2020-03-05</td>\n      <td>GSW vs. TOR</td>\n      <td>L</td>\n      <td>240</td>\n      <td>113</td>\n      <td>...</td>\n      <td>0.760</td>\n      <td>14.0</td>\n      <td>38.0</td>\n      <td>52.0</td>\n      <td>34</td>\n      <td>4</td>\n      <td>5</td>\n      <td>15</td>\n      <td>23</td>\n      <td>-8.0</td>\n    </tr>\n    <tr>\n      <th>3</th>\n      <td>22019</td>\n      <td>1610612744</td>\n      <td>GSW</td>\n      <td>Golden State Warriors</td>\n      <td>0021900913</td>\n      <td>2020-03-03</td>\n      <td>GSW @ DEN</td>\n      <td>W</td>\n      <td>239</td>\n      <td>116</td>\n      <td>...</td>\n      <td>0.636</td>\n      <td>5.0</td>\n      <td>30.0</td>\n      <td>35.0</td>\n      <td>31</td>\n      <td>8</td>\n      <td>3</td>\n      <td>11</td>\n      <td>23</td>\n      <td>16.0</td>\n    </tr>\n    <tr>\n      <th>4</th>\n      <td>22019</td>\n      <td>1610612744</td>\n      <td>GSW</td>\n      <td>Golden State Warriors</td>\n      <td>0021900901</td>\n      <td>2020-03-01</td>\n      <td>GSW vs. WAS</td>\n      <td>L</td>\n      <td>239</td>\n      <td>110</td>\n      <td>...</td>\n      <td>0.708</td>\n      <td>18.0</td>\n      <td>34.0</td>\n      <td>52.0</td>\n      <td>25</td>\n      <td>7</td>\n      <td>7</td>\n      <td>21</td>\n      <td>24</td>\n      <td>-14.0</td>\n    </tr>\n  </tbody>\n</table>\n<p>5 rows × 28 columns</p>\n</div>"
     },
     "metadata": {},
     "execution_count": 16
    }
   ],
   "source": [
    "#api merupakan langkah untuk program saling berkomunikasi\n",
    "#contoh penggunaan panda dibawah\n",
    "import pandas as pd\n",
    "dict_ = {'a': [11,21,31], 'b':[12,22,32]}\n",
    "df = pd.DataFrame(dict_)\n",
    "df.head()\n",
    "\n",
    "df.mean()\n",
    "\n",
    "#NBA_API @swar_patel\n",
    "from nba_api.stats.static import teams\n",
    "nba_teams = teams.get_teams()\n",
    "nba_teams[:5]\n",
    "\n",
    "def one_dict(list_dict):\n",
    "    keys = list_dict[0].keys()\n",
    "    out_dict={key:[] for key in keys}\n",
    "    for dict_ in list_dict:\n",
    "        for key, value in dict_.items():\n",
    "            out_dict[key].append(value)\n",
    "    return out_dict\n",
    "\n",
    "dict_nba_team = one_dict(nba_teams)\n",
    "df_teams=pd.DataFrame(dict_nba_team)\n",
    "df_teams.head()\n",
    "\n",
    "df_warriors=df_teams[df_teams['nickname']=='Warriors']\n",
    "df_warriors\n",
    "\n",
    "id_warriors=df_warriors[['id']].values[0][0]\n",
    "print(id_warriors)\n",
    "\n",
    "from nba_api.stats.endpoints import leaguegamefinder\n",
    "gamefinder = leaguegamefinder.LeagueGameFinder(team_id_nullable=id_warriors)\n",
    "\n",
    "games = gamefinder.get_data_frames()[0]\n",
    "games.head()\n",
    "\n",
    "games_home = games[games['MATCHUP']=='GSW vs. TOR']\n",
    "games_away = games[games['MATCHUP']=='GSW @ TOR']\n",
    "\n",
    "import matplotlib.pyplot as plt\n",
    "\n",
    "fig, ax = plt.subplots()\n",
    "games_away.plot(x='GAME_DATE',y='PLUS_MINUS',ax=ax)\n",
    "games_home.plot(x='GAME_DATE',y='PLUS_MINUS',ax=ax)\n",
    "ax.legend([\"away\",\"home\"])\n",
    "plt.show"
   ]
  },
  {
   "cell_type": "code",
   "execution_count": null,
   "metadata": {},
   "outputs": [],
   "source": []
  }
 ]
}