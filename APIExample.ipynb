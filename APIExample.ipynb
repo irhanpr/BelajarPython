{
 "cells": [
  {
   "cell_type": "code",
   "execution_count": 5,
   "metadata": {},
   "outputs": [
    {
     "data": {
      "text/plain": [
       "a    21.0\n",
       "b    22.0\n",
       "dtype: float64"
      ]
     },
     "execution_count": 5,
     "metadata": {},
     "output_type": "execute_result"
    }
   ],
   "source": [
    "import pandas as pd\n",
    "dict_ = {'a':[11,21,31], 'b':[12,22,32]}\n",
    "df = pd.DataFrame(dict_)\n",
    "df.head()\n",
    "df.mean()\n",
    "#REST APIS (Representational State Transfer APIs) digunakkan untuk berinteraksi dengan web service\n",
    "#aturannya adalah, komunikasi, input atau request dan output atau respon\n",
    "#program kita disebut dengan client\n",
    "#dan yang dipanggil disebut resource\n",
    "#klien bisa menemukan service menggunakkan endpoint"
   ]
  },
  {
   "cell_type": "code",
   "execution_count": 29,
   "metadata": {},
   "outputs": [
    {
     "output_type": "execute_result",
     "data": {
      "text/plain": [
       "Empty DataFrame\n",
       "Columns: [id, full_name, abbreviation, nickname, city, state, year_founded]\n",
       "Index: []"
      ],
      "text/html": "<div>\n<style scoped>\n    .dataframe tbody tr th:only-of-type {\n        vertical-align: middle;\n    }\n\n    .dataframe tbody tr th {\n        vertical-align: top;\n    }\n\n    .dataframe thead th {\n        text-align: right;\n    }\n</style>\n<table border=\"1\" class=\"dataframe\">\n  <thead>\n    <tr style=\"text-align: right;\">\n      <th></th>\n      <th>id</th>\n      <th>full_name</th>\n      <th>abbreviation</th>\n      <th>nickname</th>\n      <th>city</th>\n      <th>state</th>\n      <th>year_founded</th>\n    </tr>\n  </thead>\n  <tbody>\n  </tbody>\n</table>\n</div>"
     },
     "metadata": {},
     "execution_count": 29
    }
   ],
   "source": [
    "import pandas as pd\n",
    "from nba_api.stats.static import teams\n",
    "#nba_teams = teams.get_teams()\n",
    "#nba_teams[:5]\n",
    "\n",
    "def one_dict(list_dict):\n",
    "    keys=list_dict[0].keys()\n",
    "    out_dict={key:[] for key in keys}\n",
    "    for dict_ in list_dict:\n",
    "        for key,value in dict_.items():\n",
    "            out_dict[key].append(value)\n",
    "        return out_dict\n",
    "\n",
    "dict_nba_team = one_dict(nba_teams)\n",
    "df_teams=pd.DataFrame(dict_nba_team)\n",
    "df_teams.head()\n",
    "\n",
    "df_warriors = df_teams[df_teams['nickname']=='Warriors']\n",
    "df_warriors\n",
    "\n"
   ]
  },
  {
   "cell_type": "code",
   "execution_count": 28,
   "metadata": {},
   "outputs": [],
   "source": [
    "from nba_api.stats.static import players\n",
    "player_dict = players.get_players()\n",
    "\n",
    "# Use ternary operator or write function \n",
    "# Names are case sensitive\n",
    "bron = [player for player in player_dict if player['full_name'] == 'LeBron James'][0]\n",
    "bron_id = bron['id']\n",
    "\n",
    "# find team Ids\n",
    "from nba_api.stats.static import teams \n",
    "teams = teams.get_teams()\n",
    "GSW = [x for x in teams if x['full_name'] == 'Golden State Warriors'][0]\n",
    "GSW_id = GSW['id']\n",
    "\n",
    "# First we import the endpoint\n",
    "# We will be using pandas dataframes to manipulate the data\n",
    "from nba_api.stats.endpoints import playergamelog\n",
    "import pandas as pd \n",
    "\n",
    "#Call the API endpoint passing in lebron's ID & which season \n",
    "gamelog_bron = playergamelog.PlayerGameLog(player_id='2544', season = '2018')\n",
    "\n",
    "#Converts gamelog object into a pandas dataframe\n",
    "#can also convert to JSON or dictionary  \n",
    "df_bron_games_2018 = gamelog_bron.get_data_frames()\n",
    "\n",
    "# If you want all seasons, you must import the SeasonAll parameter \n",
    "from nba_api.stats.library.parameters import SeasonAll\n",
    "\n",
    "gamelog_bron_all = playergamelog.PlayerGameLog(player_id='2544', season = SeasonAll.all)\n",
    "\n",
    "df_bron_games_all = gamelog_bron_all.get_data_frames()\n",
    "\n",
    "from nba_api.stats.endpoints import leaguegamefinder\n",
    "\n",
    "#this time we convert it to a dataframe in the same line of code\n",
    "GSW_games = leaguegamefinder.LeagueGameFinder(team_id_nullable=GSW_id).get_data_frames()[0]\n",
    "\n",
    "games = gamefinder.get_data_frames()[0]\n",
    "games.head()\n",
    "\n"
   ]
  },
  {
   "cell_type": "code",
   "execution_count": null,
   "metadata": {},
   "outputs": [],
   "source": []
  }
 ],
 "metadata": {
  "kernelspec": {
   "name": "python3",
   "display_name": "Python 3"
  },
  "language_info": {
   "codemirror_mode": {
    "name": "ipython",
    "version": 3
   },
   "file_extension": ".py",
   "mimetype": "text/x-python",
   "name": "python",
   "nbconvert_exporter": "python",
   "pygments_lexer": "ipython3",
   "version": "3.8.5-final"
  }
 },
 "nbformat": 4,
 "nbformat_minor": 4
}