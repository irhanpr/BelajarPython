{
 "metadata": {
  "language_info": {
   "codemirror_mode": {
    "name": "ipython",
    "version": 3
   },
   "file_extension": ".py",
   "mimetype": "text/x-python",
   "name": "python",
   "nbconvert_exporter": "python",
   "pygments_lexer": "ipython3",
   "version": "3.8.5-final"
  },
  "orig_nbformat": 2,
  "kernelspec": {
   "name": "python3",
   "display_name": "Python 3"
  }
 },
 "nbformat": 4,
 "nbformat_minor": 2,
 "cells": [
  {
   "cell_type": "code",
   "execution_count": 3,
   "metadata": {},
   "outputs": [
    {
     "output_type": "error",
     "ename": "ModuleNotFoundError",
     "evalue": "No module named 'ibm_watson'",
     "traceback": [
      "\u001b[1;31m---------------------------------------------------------------------------\u001b[0m",
      "\u001b[1;31mModuleNotFoundError\u001b[0m                       Traceback (most recent call last)",
      "\u001b[1;32m<ipython-input-3-ca68d2c26ae2>\u001b[0m in \u001b[0;36m<module>\u001b[1;34m\u001b[0m\n\u001b[1;32m----> 1\u001b[1;33m \u001b[1;32mfrom\u001b[0m \u001b[0mibm_watson\u001b[0m \u001b[1;32mimport\u001b[0m \u001b[0mSpeechToTextV1\u001b[0m\u001b[1;33m\u001b[0m\u001b[1;33m\u001b[0m\u001b[0m\n\u001b[0m\u001b[0;32m      2\u001b[0m \u001b[0murl_s2t\u001b[0m\u001b[1;33m=\u001b[0m\u001b[1;34m\"https://stream.watsonplatform.net/speech-to-text/api\"\u001b[0m\u001b[1;33m\u001b[0m\u001b[1;33m\u001b[0m\u001b[0m\n\u001b[0;32m      3\u001b[0m \u001b[0miam_apikey_s2t\u001b[0m\u001b[1;33m=\u001b[0m\u001b[1;34m\"EOeiZxxxDxV2xxxxxxxxxxxxxxxxxjYen9SKARKW-\"\u001b[0m\u001b[1;33m\u001b[0m\u001b[1;33m\u001b[0m\u001b[0m\n\u001b[0;32m      4\u001b[0m \u001b[0ms2t\u001b[0m\u001b[1;33m=\u001b[0m\u001b[0mSpeechToTextV1\u001b[0m\u001b[1;33m(\u001b[0m\u001b[0miam_apikey\u001b[0m\u001b[1;33m=\u001b[0m\u001b[0miam_apikey_s2t\u001b[0m\u001b[1;33m,\u001b[0m\u001b[0murl\u001b[0m\u001b[1;33m=\u001b[0m\u001b[0murl_s2t\u001b[0m\u001b[1;33m)\u001b[0m\u001b[1;33m\u001b[0m\u001b[1;33m\u001b[0m\u001b[0m\n\u001b[0;32m      5\u001b[0m \u001b[0mfilename\u001b[0m\u001b[1;33m=\u001b[0m\u001b[1;34m'hello_this_is_python.wav'\u001b[0m\u001b[1;33m\u001b[0m\u001b[1;33m\u001b[0m\u001b[0m\n",
      "\u001b[1;31mModuleNotFoundError\u001b[0m: No module named 'ibm_watson'"
     ]
    }
   ],
   "source": [
    "from ibm_watson import SpeechToTextV1\n",
    "url_s2t=\"https://stream.watsonplatform.net/speech-to-text/api\"\n",
    "iam_apikey_s2t=\"EOeiZxxxDxV2xxxxxxxxxxxxxxxxxjYen9SKARKW-\"\n",
    "s2t=SpeechToTextV1(iam_apikey=iam_apikey_s2t,url=url_s2t)\n",
    "filename='hello_this_is_python.wav'\n",
    "\n",
    "with open(filename, mode=\"rb\") as wav:\n",
    "    response = s2t.recognize(audio=wav, content_type='audio/wav')\n",
    "    response.result\n",
    "    #output nanti akan berupa\n",
    "    #{'result':[{'alternatives':[{'confidence':0.91,'transcript':'hello this is python'}], 'final':True}], 'result_index':0}\n",
    "\n",
    "recognized_text=response.result['results'][0][\"alternatives\"][0][\"transcript\"]\n"
   ]
  },
  {
   "cell_type": "code",
   "execution_count": null,
   "metadata": {},
   "outputs": [],
   "source": [
    "from ibm_watson import LanguageTranslatorV3\n",
    "\n",
    "url_lt='http://gateaway.watsonplatform.net/language-translator/api'"
   ]
  }
 ]
}